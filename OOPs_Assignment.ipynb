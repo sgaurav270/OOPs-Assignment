{
  "nbformat": 4,
  "nbformat_minor": 0,
  "metadata": {
    "colab": {
      "provenance": []
    },
    "kernelspec": {
      "name": "python3",
      "display_name": "Python 3"
    },
    "language_info": {
      "name": "python"
    }
  },
  "cells": [
    {
      "cell_type": "markdown",
      "source": [
        "## OOPs  Assignment"
      ],
      "metadata": {
        "id": "OdtOYazefKKr"
      }
    },
    {
      "cell_type": "markdown",
      "source": [
        "1. What is Object-Oriented Programming (OOP)?\n",
        "\n",
        "    - Object-Oriented Programming (OOP) in Python is a programming paradigm based on the concept of objects, which can contain data (attributes) and functions (methods). It allows you to model real-world entities and relationships in your code, making it more modular, reusable, and organized.\n",
        "\n",
        "2. What is a class in OOP ?\n",
        "\n",
        "    - A class in Object-Oriented Programming (OOP) in Python is like a blueprint or template for creating objects. It defines the structure and behavior (via attributes and methods) that its instances (objects) will have.\n",
        "\n",
        "3. What is an object in OOP ?\n",
        "\n",
        "    - An object in OOP (Object-Oriented Programming) in Python is an instance of a class. It’s a concrete entity based on the class blueprint and holds data (attributes) and behavior (methods) defined by that class.\n",
        "\n",
        "4. What is the difference between abstraction and encapsulation ?\n",
        "\n",
        "    - Encapsulation is about bundling the data (attributes) and the methods that operate on that data into a single unit — the class — and restricting direct access to some of the object's components.Abstraction is about hiding unnecessary details from the user and only showing the essential features.\n",
        "\n",
        "5. What are dunder methods in Python ?\n",
        "\n",
        "    - Dunder methods in Python (also known as magic methods or special methods) are methods that have double underscores at the beginning and end of their names — hence the name \"dunder\" (short for \"double underscore\").\n",
        "\n",
        "6. Explain the concept of inheritance in OOP ?\n",
        "\n",
        "    - Inheritance is an OOP concept where one class (called a child or subclass) inherits the properties and behaviors (attributes and methods) of another class (called a parent or superclass).\n",
        "\n",
        "7.  What is polymorphism in OOP ?\n",
        "\n",
        "    - Polymorphism means \"many forms\". In OOP, it refers to the ability of different classes to respond to the same method name in different ways.\n",
        "\n",
        "8.  How is encapsulation achieved in Python ?\n",
        "\n",
        "  - Encapsulation is the concept of wrapping data (attributes) and the methods that operate on that data into a single unit (class) and restricting direct access to some of the object’s components.In short: It’s about protecting your data and exposing only what’s necessary.\n",
        "\n",
        "9. What is a constructor in Python ?\n",
        "\n",
        "  - A constructor is a special method that is automatically called when an object is created from a class. Its main job is to initialize the object's attributes (i.e., set up its initial state).\n",
        "\n",
        "10. What are class and static methods in Python ?\n",
        "\n",
        "  - A class method is a method that is bound to the class rather than the instance of the class. This means that it can be called on the class itself, and it takes a reference to the class (cls) as its first argument instead of a reference to the instance (self).A static method is a method that doesn't take a reference to the instance (self) or the class (cls). It behaves like a regular function, but it's defined inside a class. Static methods don’t modify the state of the object or the class.\n",
        "\n",
        "11. What is method overloading in Python ?\n",
        "\n",
        "    - In Python, method overloading refers to the ability to define multiple methods with the same name but with different arguments (either a different number of parameters or different types). However, unlike some other languages (like Java or C++), Python does not support traditional method overloading directly. This is because Python is a dynamically-typed language and does not allow multiple methods with the same name to be defined in the same class.\n",
        "\n",
        "\n",
        "12. What is method overriding in OOP ?\n",
        "\n",
        "    - Method Overriding is an Object-Oriented Programming (OOP) concept where a child class provides a specific implementation of a method that is already defined in its parent class. The child class method with the same name and signature replaces or overrides the method in the parent class.\n",
        "\n",
        "\n",
        "13. What is a property decorator in Python ?\n",
        "\n",
        "    - The @property decorator in Python is used to define getter methods in a class. It allows you to define a method that can be accessed like an attribute, providing encapsulation and controlled access to an instance's attributes. This is particularly useful when you want to manage the internal state of an object but prefer to interact with it using simple attribute access instead of method calls.\n",
        "\n",
        "\n",
        "14. Why is polymorphism important in OOP ?\n",
        "\n",
        "    - Polymorphism is one of the key pillars of Object-Oriented Programming (OOP), and it is incredibly important because it allows for greater flexibility, extensibility, and reusability of code. In Python+ (with OOP), polymorphism enables us to design systems where different objects can respond to the same method call in different ways, making our programs more adaptable and scalable.\n",
        "\n",
        "15.  What is an abstract class in Python ?\n",
        "\n",
        "    - An abstract class in Python is a class that cannot be instantiated directly and serves as a blueprint for other classes. It is meant to be inherited by other classes that provide implementations for the abstract methods defined in the abstract class. Abstract classes are used to define common methods that subclasses must implement while providing default behavior for others.\n",
        "\n",
        "16.  What are the advantages of OOP ?\n",
        "\n",
        "    - Object-Oriented Programming (OOP) is a widely used programming paradigm that organizes code into objects and classes. This approach offers several advantages that make it highly suitable for managing complex systems, promoting maintainability, and improving code reusability and readability. Such as Modularity, Encapsulation, Inheritance, Polymorphism, Abstraction.\n",
        "\n",
        "17. What is the difference between a class variable and an instance variable ?\n",
        "\n",
        "    - A class variable is a variable that is shared across all instances of a class. It is associated with the class itself, rather than any particular instance. All instances of the class share the same value for a class variable. If the class variable is modified, the change is reflected in all instances that access it.An instance variable is a variable that is specific to a particular instance of the class. Each object created from the class will have its own copy of the instance variable. These variables are usually initialized in the __init__ method and are prefixed with self, making them unique to the instance.\n",
        "\n",
        "18. What is multiple inheritance in Python ?\n",
        "\n",
        "    - Multiple inheritance in Python is a feature where a class can inherit from more than one parent class. This allows a subclass to inherit attributes and methods from multiple classes, which can help in creating more flexible and reusable code.\n",
        "\n",
        "19.  Explain the purpose of ‘’__str__’ and ‘__repr__’ ‘ methods in Python ?\n",
        "\n",
        "    - The __str__ method is meant to return a human-readable string representation of an object. It's used when you call print() or str() on an object. The goal of __str__ is to provide a clean, user-friendly, and informative string representation of the object. The __repr__ method is intended to return a developer-friendly string representation of the object. Its primary purpose is to provide an unambiguous, detailed representation that can help developers understand the object’s state. If possible, the string returned by __repr__ should ideally allow for the recreation of the object (i.e., it should look like valid Python code that could recreate the object when passed to eval()).\n",
        "\n",
        "20.  What is the significance of the ‘super()’ function in Python ?\n",
        "\n",
        "      - The super() function in Python is used to call methods from a parent class in the context of inheritance. It is typically used in method overriding (when a child class redefines a method from a parent class) to call the parent class's method from within the child class. This allows the child class to extend or modify the behavior of the inherited method, while still being able to invoke the original method from the parent class.\n",
        "\n",
        "\n",
        "21. What is the significance of the __del__ method in Python ?\n",
        "\n",
        "    - The __del__ method in Python is a destructor method that is automatically called when an object is about to be destroyed, i.e., when it is no longer referenced or when it is being garbage collected. This method allows you to define any cleanup or resource-releasing behavior that should occur before an object is removed from memory.\n",
        "\n",
        "22. What is the difference between @staticmethod and @classmethod in Python ?\n",
        "\n",
        "    - A @staticmethod is a method that belongs to the class but does not have access to the class or the instance. It behaves like a regular function but resides within the class's namespace.Static methods are generally used for utility functions that are logically related to the class but don't need to access or modify the class or instance attributes.A @classmethod is a method that belongs to the class and takes the class itself as its first argument (usually named cls). This allows the method to access or modify class-level attributes and methods.Class methods are commonly used for factory methods, class-level data manipulation, or when you want the method to operate on the class itself rather than an instance.\n",
        "\n",
        "23. How does polymorphism work in Python with inheritance ?\n",
        "\n",
        "   - Polymorphism in Python is one of the core principles of Object-Oriented Programming (OOP), and it allows objects of different classes to be treated as objects of a common base class. It works especially well in the context of inheritance, where a child class can provide its own implementation of a method that is already defined in the parent class. This enables the same method name to behave differently depending on the object calling it.\n",
        "\n",
        "\n",
        "24. What is method chaining in Python OOP ?\n",
        "\n",
        "    - Method chaining in Python refers to the practice of calling multiple methods on the same object, one after another, in a single line of code. It is typically used to improve readability and conciseness when multiple operations need to be performed on the same object.Method chaining is possible because each method in the chain must return the object itself (or some other object) so that the next method can be called on it.\n",
        "\n",
        "25. What is the purpose of the __call__ method in Python ?\n",
        "\n",
        "    - The __call__ method in Python is a special or \"dunder\" (double underscore) method that allows an instance of a class to be called as if it were a function. This method enables an object to behave like a function, meaning you can invoke the object with parentheses and arguments, just like you would call a regular function."
      ],
      "metadata": {
        "id": "n1dYc0mJfUwd"
      }
    },
    {
      "cell_type": "code",
      "source": [
        " # 1.  Create a parent class Animal with a method speak() that prints a generic message. Create a child class Dog\n",
        "#that overrides the speak() method to print \"Bark!\".\n",
        "\n",
        "\n",
        "# Parent class Animal\n",
        "class Animal:\n",
        "    def speak(self):\n",
        "        print(\"Some generic animal sound\")\n",
        "\n",
        "# Child class Dog inherits from Animal and overrides the speak() method\n",
        "class Dog(Animal):\n",
        "    def speak(self):\n",
        "        print(\"Bark!\")\n",
        "\n",
        "# Create instances of Animal and Dog\n",
        "animal = Animal()\n",
        "dog = Dog()\n",
        "\n",
        "# Call the speak() method on each instance\n",
        "animal.speak()  # Output: Some generic animal sound\n",
        "dog.speak()"
      ],
      "metadata": {
        "colab": {
          "base_uri": "https://localhost:8080/"
        },
        "id": "WDWdmyRPlMrh",
        "outputId": "c2b41570-4a5d-4efb-9967-94c3f0428b72"
      },
      "execution_count": 1,
      "outputs": [
        {
          "output_type": "stream",
          "name": "stdout",
          "text": [
            "Some generic animal sound\n",
            "Bark!\n"
          ]
        }
      ]
    },
    {
      "cell_type": "code",
      "source": [
        "# 2. Write a program to create an abstract class Shape with a method area(). Derive classes Circle and Rectangle\n",
        "#from it and implement the area() method in both.\n",
        "\n",
        "from abc import ABC, abstractmethod\n",
        "import math\n",
        "\n",
        "# Abstract class Shape\n",
        "class Shape(ABC):\n",
        "    @abstractmethod\n",
        "    def area(self):\n",
        "        pass\n",
        "\n",
        "# Derived class Circle\n",
        "class Circle(Shape):\n",
        "    def __init__(self, radius):\n",
        "        self.radius = radius\n",
        "\n",
        "    def area(self):\n",
        "        return math.pi * (self.radius ** 2)\n",
        "\n",
        "# Derived class Rectangle\n",
        "class Rectangle(Shape):\n",
        "    def __init__(self, width, height):\n",
        "        self.width = width\n",
        "        self.height = height\n",
        "\n",
        "    def area(self):\n",
        "        return self.width * self.height\n",
        "\n",
        "# Creating instances of Circle and Rectangle\n",
        "circle = Circle(5)  # Circle with radius 5\n",
        "rectangle = Rectangle(4, 6)  # Rectangle with width 4 and height 6\n",
        "\n",
        "# Printing the areas\n",
        "print(f\"Area of the circle: {circle.area()}\")  # Output: Area of the circle: 78.53981633974483\n",
        "print(f\"Area of the rectangle: {rectangle.area()}\")  # Output: Area of the rectangle: 24\n"
      ],
      "metadata": {
        "colab": {
          "base_uri": "https://localhost:8080/"
        },
        "id": "q9wrom4Vlixy",
        "outputId": "6a54d0e5-7c35-4786-8a52-3c3aa77cc0fa"
      },
      "execution_count": 2,
      "outputs": [
        {
          "output_type": "stream",
          "name": "stdout",
          "text": [
            "Area of the circle: 78.53981633974483\n",
            "Area of the rectangle: 24\n"
          ]
        }
      ]
    },
    {
      "cell_type": "code",
      "source": [
        "# 3. Implement a multi-level inheritance scenario where a class Vehicle has an attribute type. Derive a class Car\n",
        "#and further derive a class ElectricCar that adds a battery attribute.\n",
        "\n",
        "# Base class Vehicle\n",
        "class Vehicle:\n",
        "    def __init__(self, vehicle_type):\n",
        "        self.vehicle_type = vehicle_type\n",
        "\n",
        "    def display_type(self):\n",
        "        print(f\"This is a {self.vehicle_type}.\")\n",
        "\n",
        "# Derived class Car inherits from Vehicle\n",
        "class Car(Vehicle):\n",
        "    def __init__(self, vehicle_type, model):\n",
        "        super().__init__(vehicle_type)  # Call the constructor of the base class Vehicle\n",
        "        self.model = model\n",
        "\n",
        "    def display_model(self):\n",
        "        print(f\"This is a {self.model} model.\")\n",
        "\n",
        "# Further derived class ElectricCar inherits from Car\n",
        "class ElectricCar(Car):\n",
        "    def __init__(self, vehicle_type, model, battery_capacity):\n",
        "        super().__init__(vehicle_type, model)  # Call the constructor of the Car class\n",
        "        self.battery_capacity = battery_capacity\n",
        "\n",
        "    def display_battery(self):\n",
        "        print(f\"This electric car has a {self.battery_capacity} kWh battery.\")\n",
        "\n",
        "# Create an instance of ElectricCar\n",
        "electric_car = ElectricCar(\"Electric Vehicle\", \"Tesla Model S\", 100)\n",
        "\n",
        "# Access methods from all classes\n",
        "electric_car.display_type()          # From Vehicle class\n",
        "electric_car.display_model()         # From Car class\n",
        "electric_car.display_battery()       # From ElectricCar class\n"
      ],
      "metadata": {
        "colab": {
          "base_uri": "https://localhost:8080/"
        },
        "id": "3cXKYrMGlvfc",
        "outputId": "000982a6-a2dd-4650-ea8c-4b101fd4a55d"
      },
      "execution_count": 5,
      "outputs": [
        {
          "output_type": "stream",
          "name": "stdout",
          "text": [
            "This is a Electric Vehicle.\n",
            "This is a Tesla Model S model.\n",
            "This electric car has a 100 kWh battery.\n"
          ]
        }
      ]
    },
    {
      "cell_type": "code",
      "source": [
        "# 4. Demonstrate polymorphism by creating a base class Bird with a method fly(). Create two derived classes\n",
        "#Sparrow and Penguin that override the fly() method.\n",
        "\n",
        "\n",
        "# Base class Bird\n",
        "class Bird:\n",
        "    def fly(self):\n",
        "        print(\"This bird can fly.\")\n",
        "\n",
        "# Derived class Sparrow\n",
        "class Sparrow(Bird):\n",
        "    def fly(self):\n",
        "        print(\"The sparrow is flying.\")\n",
        "\n",
        "# Derived class Penguin\n",
        "class Penguin(Bird):\n",
        "    def fly(self):\n",
        "        print(\"The penguin cannot fly.\")\n",
        "\n",
        "# Create instances of Sparrow and Penguin\n",
        "sparrow = Sparrow()\n",
        "penguin = Penguin()\n",
        "\n",
        "# Call the fly() method on each instance\n",
        "sparrow.fly()  # Output: The sparrow is flying.\n",
        "penguin.fly()  # Output: The penguin cannot fly.\n"
      ],
      "metadata": {
        "colab": {
          "base_uri": "https://localhost:8080/"
        },
        "id": "dLLwQqgWmEgp",
        "outputId": "12ec898e-731c-4be9-ff7e-f12320189320"
      },
      "execution_count": 6,
      "outputs": [
        {
          "output_type": "stream",
          "name": "stdout",
          "text": [
            "The sparrow is flying.\n",
            "The penguin cannot fly.\n"
          ]
        }
      ]
    },
    {
      "cell_type": "code",
      "source": [
        "# 5. Write a program to demonstrate encapsulation by creating a class BankAccount with private attributes\n",
        "# balance and methods to deposit, withdraw, and check balance.\n",
        "\n",
        "class BankAccount:\n",
        "    def __init__(self, initial_balance=0):\n",
        "        # Private attribute\n",
        "        self.__balance = initial_balance\n",
        "\n",
        "    # Public method to deposit money\n",
        "    def deposit(self, amount):\n",
        "        if amount > 0:\n",
        "            self.__balance += amount\n",
        "            print(f\"Deposited: ${amount}\")\n",
        "        else:\n",
        "            print(\"Deposit amount must be positive.\")\n",
        "\n",
        "    # Public method to withdraw money\n",
        "    def withdraw(self, amount):\n",
        "        if amount > 0 and amount <= self.__balance:\n",
        "            self.__balance -= amount\n",
        "            print(f\"Withdrew: ${amount}\")\n",
        "        else:\n",
        "            print(\"Insufficient funds or invalid amount.\")\n",
        "\n",
        "    # Public method to check the balance\n",
        "    def check_balance(self):\n",
        "        print(f\"Current balance: ${self.__balance}\")\n",
        "\n",
        "# Create an instance of BankAccount\n",
        "account = BankAccount(1000)\n",
        "\n",
        "# Deposit some money\n",
        "account.deposit(500)\n",
        "\n",
        "# Withdraw some money\n",
        "account.withdraw(200)\n",
        "\n",
        "# Check balance\n",
        "account.check_balance()\n",
        "\n",
        "# Try to access the private attribute directly (will cause an error)\n",
        "# print(account.__balance)  # This will raise an AttributeError\n"
      ],
      "metadata": {
        "colab": {
          "base_uri": "https://localhost:8080/"
        },
        "id": "pEENBjx7mRiF",
        "outputId": "5772cfa1-d146-4787-945e-28677ba7a065"
      },
      "execution_count": 7,
      "outputs": [
        {
          "output_type": "stream",
          "name": "stdout",
          "text": [
            "Deposited: $500\n",
            "Withdrew: $200\n",
            "Current balance: $1300\n"
          ]
        }
      ]
    },
    {
      "cell_type": "code",
      "source": [
        "# 6. Demonstrate runtime polymorphism using a method play() in a base class Instrument. Derive classes Guitar\n",
        "#and Piano that implement their own version of play().\n",
        "\n",
        "# Base class Instrument\n",
        "class Instrument:\n",
        "    def play(self):\n",
        "        print(\"Playing the instrument\")\n",
        "\n",
        "# Derived class Guitar\n",
        "class Guitar(Instrument):\n",
        "    def play(self):\n",
        "        print(\"Playing the guitar\")\n",
        "\n",
        "# Derived class Piano\n",
        "class Piano(Instrument):\n",
        "    def play(self):\n",
        "        print(\"Playing the piano\")\n",
        "\n",
        "# Function to demonstrate polymorphism\n",
        "def play_instrument(instrument):\n",
        "    instrument.play()  # This will call the appropriate play() method at runtime\n",
        "\n",
        "# Create instances of Guitar and Piano\n",
        "guitar = Guitar()\n",
        "piano = Piano()\n",
        "\n",
        "# Demonstrating runtime polymorphism\n",
        "play_instrument(guitar)  # Output: Playing the guitar\n",
        "play_instrument(piano)   # Output: Playing the piano\n"
      ],
      "metadata": {
        "colab": {
          "base_uri": "https://localhost:8080/"
        },
        "id": "2L6Zwr7zmd1W",
        "outputId": "dfb67e03-629a-4082-d13c-7fdc05a70048"
      },
      "execution_count": 8,
      "outputs": [
        {
          "output_type": "stream",
          "name": "stdout",
          "text": [
            "Playing the guitar\n",
            "Playing the piano\n"
          ]
        }
      ]
    },
    {
      "cell_type": "code",
      "source": [
        "# 7. Create a class MathOperations with a class method add_numbers() to add two numbers and a static\n",
        "# method subtract_numbers() to subtract two numbers.\n",
        "\n",
        "class MathOperations:\n",
        "    # Class method to add two numbers\n",
        "    @classmethod\n",
        "    def add_numbers(cls, a, b):\n",
        "        return a + b\n",
        "\n",
        "    # Static method to subtract two numbers\n",
        "    @staticmethod\n",
        "    def subtract_numbers(a, b):\n",
        "        return a - b\n",
        "\n",
        "# Using the class method to add numbers\n",
        "sum_result = MathOperations.add_numbers(10, 5)\n",
        "print(f\"Sum: {sum_result}\")  # Output: Sum: 15\n",
        "\n",
        "# Using the static method to subtract numbers\n",
        "sub_result = MathOperations.subtract_numbers(10, 5)\n",
        "print(f\"Difference: {sub_result}\")  # Output: Difference: 5\n"
      ],
      "metadata": {
        "colab": {
          "base_uri": "https://localhost:8080/"
        },
        "id": "HXwNJWqsmsPR",
        "outputId": "3f28e5bc-2d31-4a6d-ee4a-29d2412abf54"
      },
      "execution_count": 9,
      "outputs": [
        {
          "output_type": "stream",
          "name": "stdout",
          "text": [
            "Sum: 15\n",
            "Difference: 5\n"
          ]
        }
      ]
    },
    {
      "cell_type": "code",
      "source": [
        "# 8.  Implement a class Person with a class method to count the total number of persons created.\n",
        "\n",
        "class Person:\n",
        "    # Class variable to keep track of the number of persons created\n",
        "    total_persons = 0\n",
        "\n",
        "    def __init__(self, name, age):\n",
        "        self.name = name\n",
        "        self.age = age\n",
        "        # Increment the count each time a new instance is created\n",
        "        Person.total_persons += 1\n",
        "\n",
        "    # Class method to get the total number of persons created\n",
        "    @classmethod\n",
        "    def get_total_persons(cls):\n",
        "        return cls.total_persons\n",
        "\n",
        "# Creating instances of Person\n",
        "person1 = Person(\"Alice\", 30)\n",
        "person2 = Person(\"Bob\", 25)\n",
        "person3 = Person(\"Charlie\", 35)\n",
        "\n",
        "# Using the class method to get the total number of persons created\n",
        "print(f\"Total persons created: {Person.get_total_persons()}\")  # Output\n"
      ],
      "metadata": {
        "colab": {
          "base_uri": "https://localhost:8080/"
        },
        "id": "-TvRo-rim1eu",
        "outputId": "8524e146-d1b8-41c1-f66d-2c42597fb98e"
      },
      "execution_count": 11,
      "outputs": [
        {
          "output_type": "stream",
          "name": "stdout",
          "text": [
            "Total persons created: 3\n"
          ]
        }
      ]
    },
    {
      "cell_type": "code",
      "source": [
        "# 9. Write a class Fraction with attributes numerator and denominator. Override the str method to display the\n",
        "# fraction as \"numerator/denominator\".\n",
        "\n",
        "class Fraction:\n",
        "    def __init__(self, numerator, denominator):\n",
        "        self.numerator = numerator\n",
        "        self.denominator = denominator\n",
        "\n",
        "    # Override the __str__ method to display the fraction as \"numerator/denominator\"\n",
        "    def __str__(self):\n",
        "        return f\"{self.numerator}/{self.denominator}\"\n",
        "\n",
        "# Creating instances of Fraction\n",
        "fraction1 = Fraction(3, 4)\n",
        "fraction2 = Fraction(5, 8)\n",
        "\n",
        "# Printing the fractions\n",
        "print(fraction1)  # Output: 3/4\n",
        "print(fraction2)  # Output: 5/8\n"
      ],
      "metadata": {
        "colab": {
          "base_uri": "https://localhost:8080/"
        },
        "id": "tH7tDlz2nF3L",
        "outputId": "eee6191b-6b95-47d8-be67-224030b163c9"
      },
      "execution_count": 12,
      "outputs": [
        {
          "output_type": "stream",
          "name": "stdout",
          "text": [
            "3/4\n",
            "5/8\n"
          ]
        }
      ]
    },
    {
      "cell_type": "code",
      "source": [
        "# 10. Demonstrate operator overloading by creating a class Vector and overriding the add method to add two\n",
        "# vectors.\n",
        "\n",
        "\n",
        "class Vector:\n",
        "    def __init__(self, x, y):\n",
        "        self.x = x\n",
        "        self.y = y\n",
        "\n",
        "    # Overloading the + operator to add two vectors\n",
        "    def __add__(self, other):\n",
        "        # Adding corresponding components of the two vectors\n",
        "        return Vector(self.x + other.x, self.y + other.y)\n",
        "\n",
        "    # Overriding the __str__ method to display the vector as \"(x, y)\"\n",
        "    def __str__(self):\n",
        "        return f\"({self.x}, {self.y})\"\n",
        "\n",
        "# Creating two vector objects\n",
        "vector1 = Vector(1, 2)\n",
        "vector2 = Vector(3, 4)\n",
        "\n",
        "# Adding two vectors using the overloaded + operator\n",
        "result_vector = vector1 + vector2\n",
        "\n",
        "# Printing the result\n",
        "print(f\"Vector1: {vector1}\")\n",
        "print(f\"Vector2: {vector2}\")\n",
        "print(f\"Resultant Vector: {result_vector}\")\n"
      ],
      "metadata": {
        "colab": {
          "base_uri": "https://localhost:8080/"
        },
        "id": "LsaZcpxpnPXZ",
        "outputId": "4b516feb-a83e-46ee-81f2-cec06eb313f9"
      },
      "execution_count": 13,
      "outputs": [
        {
          "output_type": "stream",
          "name": "stdout",
          "text": [
            "Vector1: (1, 2)\n",
            "Vector2: (3, 4)\n",
            "Resultant Vector: (4, 6)\n"
          ]
        }
      ]
    },
    {
      "cell_type": "code",
      "source": [
        "# 11. Create a class Person with attributes name and age. Add a method greet() that prints \"Hello, my name is\n",
        "#{name} and I am {age} years old.\"\n",
        "\n",
        "class Person:\n",
        "    def __init__(self, name, age):\n",
        "        self.name = name\n",
        "        self.age = age\n",
        "\n",
        "    # Method to greet the person\n",
        "    def greet(self):\n",
        "        print(f\"Hello, my name is {self.name} and I am {self.age} years old.\")\n",
        "\n",
        "# Creating an instance of Person\n",
        "person1 = Person(\"Gaurav\", 31)\n",
        "\n",
        "# Calling the greet method\n",
        "person1.greet()  # Output\n"
      ],
      "metadata": {
        "colab": {
          "base_uri": "https://localhost:8080/"
        },
        "id": "g4mc_Iw8nYwh",
        "outputId": "b0088399-e696-41cf-c2b5-4115a5b35b2d"
      },
      "execution_count": 15,
      "outputs": [
        {
          "output_type": "stream",
          "name": "stdout",
          "text": [
            "Hello, my name is Gaurav and I am 31 years old.\n"
          ]
        }
      ]
    },
    {
      "cell_type": "code",
      "source": [
        "# 12. Implement a class Student with attributes name and grades. Create a method average_grade() to compute\n",
        "#the average of the grades.\n",
        "\n",
        "class Student:\n",
        "    def __init__(self, name, grades):\n",
        "        self.name = name\n",
        "        self.grades = grades\n",
        "\n",
        "    # Method to compute the average of the grades\n",
        "    def average_grade(self):\n",
        "        if len(self.grades) == 0:\n",
        "            return 0  # To avoid division by zero if the grades list is empty\n",
        "        return sum(self.grades) / len(self.grades)\n",
        "\n",
        "# Creating an instance of Student\n",
        "student1 = Student(\"Alice\", [90, 85, 88, 92, 87])\n",
        "\n",
        "# Calling the average_grade method\n",
        "avg_grade = student1.average_grade()\n",
        "\n",
        "# Printing the result\n",
        "print(f\"{student1.name}'s average grade is {avg_grade:.2f}\")\n"
      ],
      "metadata": {
        "colab": {
          "base_uri": "https://localhost:8080/"
        },
        "id": "OPnU0CWGnqmd",
        "outputId": "91d303c6-3d93-4a0d-811c-57aada8c42d2"
      },
      "execution_count": 16,
      "outputs": [
        {
          "output_type": "stream",
          "name": "stdout",
          "text": [
            "Alice's average grade is 88.40\n"
          ]
        }
      ]
    },
    {
      "cell_type": "code",
      "source": [
        "# 13. Create a class Rectangle with methods set_dimensions() to set the dimensions and area() to calculate the area.\n",
        "\n",
        "class Rectangle:\n",
        "    def __init__(self):\n",
        "        # Initialize with default dimensions\n",
        "        self.length = 0\n",
        "        self.width = 0\n",
        "\n",
        "    # Method to set the dimensions of the rectangle\n",
        "    def set_dimensions(self, length, width):\n",
        "        self.length = length\n",
        "        self.width = width\n",
        "\n",
        "    # Method to calculate the area of the rectangle\n",
        "    def area(self):\n",
        "        return self.length * self.width\n",
        "\n",
        "# Creating an instance of Rectangle\n",
        "rectangle1 = Rectangle()\n",
        "\n",
        "# Setting the dimensions of the rectangle\n",
        "rectangle1.set_dimensions(5, 3)\n",
        "\n",
        "# Calculating and printing the area\n",
        "area = rectangle1.area()\n",
        "print(f\"The area of the rectangle is {area}.\")\n"
      ],
      "metadata": {
        "colab": {
          "base_uri": "https://localhost:8080/"
        },
        "id": "Xg7I6Z3Enzfd",
        "outputId": "0dafd80e-ec4e-4f99-93e3-6d57c5fe6950"
      },
      "execution_count": 17,
      "outputs": [
        {
          "output_type": "stream",
          "name": "stdout",
          "text": [
            "The area of the rectangle is 15.\n"
          ]
        }
      ]
    },
    {
      "cell_type": "code",
      "source": [
        "# 14. Create a class Employee with a method calculate_salary() that computes the salary based on hours worked\n",
        "# and hourly rate. Create a derived class Manager that adds a bonus to the salary.\n",
        "\n",
        "# Parent class Employee\n",
        "class Employee:\n",
        "    def __init__(self, name, hours_worked, hourly_rate):\n",
        "        self.name = name\n",
        "        self.hours_worked = hours_worked\n",
        "        self.hourly_rate = hourly_rate\n",
        "\n",
        "    # Method to calculate salary\n",
        "    def calculate_salary(self):\n",
        "        return self.hours_worked * self.hourly_rate\n",
        "\n",
        "# Derived class Manager\n",
        "class Manager(Employee):\n",
        "    def __init__(self, name, hours_worked, hourly_rate, bonus):\n",
        "        # Call the parent class constructor\n",
        "        super().__init__(name, hours_worked, hourly_rate)\n",
        "        self.bonus = bonus\n",
        "\n",
        "    # Override the calculate_salary method to include bonus\n",
        "    def calculate_salary(self):\n",
        "        base_salary = super().calculate_salary()  # Get the base salary from Employee class\n",
        "        return base_salary + self.bonus\n",
        "\n",
        "# Creating an instance of Employee\n",
        "employee = Employee(\"John Doe\", 40, 25)  # 40 hours worked, $25 per hour\n",
        "\n",
        "# Creating an instance of Manager\n",
        "manager = Manager(\"Jane Smith\", 40, 30, 500)  # 40 hours worked, $30 per hour, $500 bonus\n",
        "\n",
        "# Calculating and printing the salary for both Employee and Manager\n",
        "print(f\"Employee Salary: ${employee.calculate_salary()}\")  # Output: Employee Salary: $1000\n",
        "print(f\"Manager Salary: ${manager.calculate_salary()}\")  # Output: Manager Salary: $1700\n"
      ],
      "metadata": {
        "colab": {
          "base_uri": "https://localhost:8080/"
        },
        "id": "dq4j_gSYn8YT",
        "outputId": "ec2e15ce-ab88-4965-9135-094482235339"
      },
      "execution_count": 18,
      "outputs": [
        {
          "output_type": "stream",
          "name": "stdout",
          "text": [
            "Employee Salary: $1000\n",
            "Manager Salary: $1700\n"
          ]
        }
      ]
    },
    {
      "cell_type": "code",
      "source": [
        "# 15. Create a class Product with attributes name, price, and quantity. Implement a method total_price() that\n",
        "#calculates the total price of the product.\n",
        "\n",
        "class Product:\n",
        "    def __init__(self, name, price, quantity):\n",
        "        self.name = name\n",
        "        self.price = price\n",
        "        self.quantity = quantity\n",
        "\n",
        "    # Method to calculate the total price of the product\n",
        "    def total_price(self):\n",
        "        return self.price * self.quantity\n",
        "\n",
        "# Creating an instance of Product\n",
        "product1 = Product(\"Laptop\", 1000, 3)\n",
        "\n",
        "# Calculating and printing the total price\n",
        "total_cost = product1.total_price()\n",
        "print(f\"The total price for {product1.name} is ${total_cost}.\")\n"
      ],
      "metadata": {
        "colab": {
          "base_uri": "https://localhost:8080/"
        },
        "id": "-rWbh82hoM-m",
        "outputId": "2ff35767-2fd7-4455-a3c3-f12fe97e4558"
      },
      "execution_count": 19,
      "outputs": [
        {
          "output_type": "stream",
          "name": "stdout",
          "text": [
            "The total price for Laptop is $3000.\n"
          ]
        }
      ]
    },
    {
      "cell_type": "code",
      "source": [
        "# 16. Create a class Animal with an abstract method sound(). Create two derived classes Cow and Sheep that implement the sound() method.\n",
        "\n",
        "from abc import ABC, abstractmethod\n",
        "\n",
        "# Abstract base class Animal\n",
        "class Animal(ABC):\n",
        "\n",
        "    @abstractmethod\n",
        "    def sound(self):\n",
        "        pass  # This method should be overridden in derived classes\n",
        "\n",
        "# Derived class Cow\n",
        "class Cow(Animal):\n",
        "    def sound(self):\n",
        "        return \"Moo\"\n",
        "\n",
        "# Derived class Sheep\n",
        "class Sheep(Animal):\n",
        "    def sound(self):\n",
        "        return \"Baa\"\n",
        "\n",
        "# Creating instances of Cow and Sheep\n",
        "cow = Cow()\n",
        "sheep = Sheep()\n",
        "\n",
        "# Calling the sound method\n",
        "print(f\"Cow says: {cow.sound()}\")  # Output\n",
        "print(f\"Sheep says: {sheep.sound()}\")  # Output\n"
      ],
      "metadata": {
        "colab": {
          "base_uri": "https://localhost:8080/"
        },
        "id": "AVSDZPMzoXeg",
        "outputId": "30bc1f77-d18a-46a1-e6c6-108e90e5b787"
      },
      "execution_count": 20,
      "outputs": [
        {
          "output_type": "stream",
          "name": "stdout",
          "text": [
            "Cow says: Moo\n",
            "Sheep says: Baa\n"
          ]
        }
      ]
    },
    {
      "cell_type": "code",
      "source": [
        "# 17. Create a class Book with attributes title, author, and year_published. Add a method get_book_info() that\n",
        "#returns a formatted string with the book's details.\n",
        "\n",
        "\n",
        "class Book:\n",
        "    def __init__(self, title, author, year_published):\n",
        "        self.title = title\n",
        "        self.author = author\n",
        "        self.year_published = year_published\n",
        "\n",
        "    # Method to return a formatted string with the book's details\n",
        "    def get_book_info(self):\n",
        "        return f\"Title: {self.title}\\nAuthor: {self.author}\\nYear Published: {self.year_published}\"\n",
        "\n",
        "# Creating an instance of Book\n",
        "book1 = Book(\"1984\", \"George Orwell\", 1949)\n",
        "\n",
        "# Getting and printing the book info\n",
        "book_info = book1.get_book_info()\n",
        "print(book_info)\n"
      ],
      "metadata": {
        "colab": {
          "base_uri": "https://localhost:8080/"
        },
        "id": "VbeT9Bacoju1",
        "outputId": "d0961591-193b-4b9d-a329-84a37ca22559"
      },
      "execution_count": 21,
      "outputs": [
        {
          "output_type": "stream",
          "name": "stdout",
          "text": [
            "Title: 1984\n",
            "Author: George Orwell\n",
            "Year Published: 1949\n"
          ]
        }
      ]
    },
    {
      "cell_type": "code",
      "source": [
        "# 18.  Create a class House with attributes address and price. Create a derived class Mansion that adds an\n",
        "#attribute number_of_rooms.\n",
        "\n",
        "# Base class House\n",
        "class House:\n",
        "    def __init__(self, address, price):\n",
        "        self.address = address\n",
        "        self.price = price\n",
        "\n",
        "    # Method to display the basic information about the house\n",
        "    def get_house_info(self):\n",
        "        return f\"Address: {self.address}\\nPrice: ${self.price}\"\n",
        "\n",
        "# Derived class Mansion\n",
        "class Mansion(House):\n",
        "    def __init__(self, address, price, number_of_rooms):\n",
        "        # Call the parent class constructor\n",
        "        super().__init__(address, price)\n",
        "        self.number_of_rooms = number_of_rooms\n",
        "\n",
        "    # Method to display information about the mansion\n",
        "    def get_mansion_info(self):\n",
        "        house_info = self.get_house_info()  # Get basic house information\n",
        "        return f\"{house_info}\\nNumber of Rooms: {self.number_of_rooms}\"\n",
        "\n",
        "# Creating an instance of House\n",
        "house1 = House(\"123 Elm St\", 250000)\n",
        "\n",
        "# Creating an instance of Mansion\n",
        "mansion1 = Mansion(\"456 Oak Ave\", 5000000, 15)\n",
        "\n",
        "# Displaying the information about both the house and the mansion\n",
        "print(\"House Info:\")\n",
        "print(house1.get_house_info())  # Basic house information\n",
        "\n",
        "print(\"\\nMansion Info:\")\n",
        "print(mansion1.get_mansion_info())  # Mansion information with extra attribute\n"
      ],
      "metadata": {
        "colab": {
          "base_uri": "https://localhost:8080/"
        },
        "id": "Eo7Gdeohoy45",
        "outputId": "e7225c99-5a56-403b-a437-a7a721eef5f5"
      },
      "execution_count": 22,
      "outputs": [
        {
          "output_type": "stream",
          "name": "stdout",
          "text": [
            "House Info:\n",
            "Address: 123 Elm St\n",
            "Price: $250000\n",
            "\n",
            "Mansion Info:\n",
            "Address: 456 Oak Ave\n",
            "Price: $5000000\n",
            "Number of Rooms: 15\n"
          ]
        }
      ]
    }
  ]
}